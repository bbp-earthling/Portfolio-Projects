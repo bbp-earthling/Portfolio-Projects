{
 "cells": [
  {
   "cell_type": "markdown",
   "metadata": {},
   "source": [
    "##### 1. The Purpose Of The Notebook\n",
    "\n",
    "The purpose of this notebook is to gain an undersatnding into trends in alcohol consumption over time, identifying factors that influence alcohol consumption, and analyzing the impacts of alcohol on public health and social issues."
   ]
  },
  {
   "cell_type": "markdown",
   "metadata": {},
   "source": [
    "##### 2. Loading & Understanding The Data"
   ]
  },
  {
   "cell_type": "code",
   "execution_count": 1,
   "metadata": {},
   "outputs": [],
   "source": [
    "# import libraries\n",
    "import pandas as pd\n",
    "import matplotlib.pyplot as plt\n",
    "import seaborn as sns \n",
    "import numpy as np\n",
    "plt.style.use('ggplot')"
   ]
  },
  {
   "cell_type": "code",
   "execution_count": 2,
   "metadata": {},
   "outputs": [
    {
     "data": {
      "text/html": [
       "<div>\n",
       "<style scoped>\n",
       "    .dataframe tbody tr th:only-of-type {\n",
       "        vertical-align: middle;\n",
       "    }\n",
       "\n",
       "    .dataframe tbody tr th {\n",
       "        vertical-align: top;\n",
       "    }\n",
       "\n",
       "    .dataframe thead th {\n",
       "        text-align: right;\n",
       "    }\n",
       "</style>\n",
       "<table border=\"1\" class=\"dataframe\">\n",
       "  <thead>\n",
       "    <tr style=\"text-align: right;\">\n",
       "      <th></th>\n",
       "      <th>Gender</th>\n",
       "      <th>Count</th>\n",
       "      <th>Countries</th>\n",
       "      <th>Countries Code</th>\n",
       "      <th>Date</th>\n",
       "    </tr>\n",
       "  </thead>\n",
       "  <tbody>\n",
       "    <tr>\n",
       "      <th>0</th>\n",
       "      <td>Female</td>\n",
       "      <td>1</td>\n",
       "      <td>Japan</td>\n",
       "      <td>JP</td>\n",
       "      <td>12/25/2019</td>\n",
       "    </tr>\n",
       "    <tr>\n",
       "      <th>1</th>\n",
       "      <td>Female</td>\n",
       "      <td>2</td>\n",
       "      <td>Czech Republic</td>\n",
       "      <td>CZ</td>\n",
       "      <td>12/22/2019</td>\n",
       "    </tr>\n",
       "    <tr>\n",
       "      <th>2</th>\n",
       "      <td>Male</td>\n",
       "      <td>3</td>\n",
       "      <td>Portugal</td>\n",
       "      <td>PT</td>\n",
       "      <td>12/28/2019</td>\n",
       "    </tr>\n",
       "    <tr>\n",
       "      <th>3</th>\n",
       "      <td>Female</td>\n",
       "      <td>4</td>\n",
       "      <td>Netherlands</td>\n",
       "      <td>NL</td>\n",
       "      <td>2012/01/19</td>\n",
       "    </tr>\n",
       "    <tr>\n",
       "      <th>4</th>\n",
       "      <td>Female</td>\n",
       "      <td>5</td>\n",
       "      <td>Argentina</td>\n",
       "      <td>AR</td>\n",
       "      <td>12/24/2019</td>\n",
       "    </tr>\n",
       "  </tbody>\n",
       "</table>\n",
       "</div>"
      ],
      "text/plain": [
       "   Gender  Count       Countries Countries Code        Date\n",
       "0  Female      1           Japan             JP  12/25/2019\n",
       "1  Female      2  Czech Republic             CZ  12/22/2019\n",
       "2    Male      3        Portugal             PT  12/28/2019\n",
       "3  Female      4     Netherlands             NL  2012/01/19\n",
       "4  Female      5       Argentina             AR  12/24/2019"
      ]
     },
     "execution_count": 2,
     "metadata": {},
     "output_type": "execute_result"
    }
   ],
   "source": [
    "df = pd.read_csv(\"World Alcoholic Consumption datasets.csv\", delimiter=';', skiprows=0, low_memory=False)\n",
    "df.head()"
   ]
  },
  {
   "cell_type": "code",
   "execution_count": 3,
   "metadata": {},
   "outputs": [
    {
     "data": {
      "text/html": [
       "<div>\n",
       "<style scoped>\n",
       "    .dataframe tbody tr th:only-of-type {\n",
       "        vertical-align: middle;\n",
       "    }\n",
       "\n",
       "    .dataframe tbody tr th {\n",
       "        vertical-align: top;\n",
       "    }\n",
       "\n",
       "    .dataframe thead th {\n",
       "        text-align: right;\n",
       "    }\n",
       "</style>\n",
       "<table border=\"1\" class=\"dataframe\">\n",
       "  <thead>\n",
       "    <tr style=\"text-align: right;\">\n",
       "      <th></th>\n",
       "      <th>Gender</th>\n",
       "      <th>Count</th>\n",
       "      <th>Countries</th>\n",
       "      <th>Countries Code</th>\n",
       "      <th>Date</th>\n",
       "    </tr>\n",
       "  </thead>\n",
       "  <tbody>\n",
       "    <tr>\n",
       "      <th>12495</th>\n",
       "      <td>Male</td>\n",
       "      <td>996</td>\n",
       "      <td>Russia</td>\n",
       "      <td>RU</td>\n",
       "      <td>2011/09/19</td>\n",
       "    </tr>\n",
       "    <tr>\n",
       "      <th>12496</th>\n",
       "      <td>Male</td>\n",
       "      <td>997</td>\n",
       "      <td>China</td>\n",
       "      <td>CN</td>\n",
       "      <td>3/20/2019</td>\n",
       "    </tr>\n",
       "    <tr>\n",
       "      <th>12497</th>\n",
       "      <td>Male</td>\n",
       "      <td>998</td>\n",
       "      <td>China</td>\n",
       "      <td>CN</td>\n",
       "      <td>4/21/2019</td>\n",
       "    </tr>\n",
       "    <tr>\n",
       "      <th>12498</th>\n",
       "      <td>Female</td>\n",
       "      <td>999</td>\n",
       "      <td>Philippines</td>\n",
       "      <td>PH</td>\n",
       "      <td>3/20/2019</td>\n",
       "    </tr>\n",
       "    <tr>\n",
       "      <th>12499</th>\n",
       "      <td>Female</td>\n",
       "      <td>1000</td>\n",
       "      <td>Sweden</td>\n",
       "      <td>SE</td>\n",
       "      <td>11/16/2019</td>\n",
       "    </tr>\n",
       "  </tbody>\n",
       "</table>\n",
       "</div>"
      ],
      "text/plain": [
       "       Gender  Count    Countries Countries Code        Date\n",
       "12495    Male    996       Russia             RU  2011/09/19\n",
       "12496    Male    997        China             CN   3/20/2019\n",
       "12497    Male    998        China             CN   4/21/2019\n",
       "12498  Female    999  Philippines             PH   3/20/2019\n",
       "12499  Female   1000       Sweden             SE  11/16/2019"
      ]
     },
     "execution_count": 3,
     "metadata": {},
     "output_type": "execute_result"
    }
   ],
   "source": [
    "df.tail()"
   ]
  },
  {
   "cell_type": "code",
   "execution_count": 4,
   "metadata": {},
   "outputs": [
    {
     "data": {
      "text/plain": [
       "pandas.core.frame.DataFrame"
      ]
     },
     "execution_count": 4,
     "metadata": {},
     "output_type": "execute_result"
    }
   ],
   "source": [
    "type(df)"
   ]
  },
  {
   "cell_type": "markdown",
   "metadata": {},
   "source": []
  },
  {
   "cell_type": "code",
   "execution_count": 5,
   "metadata": {},
   "outputs": [
    {
     "name": "stdout",
     "output_type": "stream",
     "text": [
      "Rows :  12500 \n",
      " Columns : 5\n"
     ]
    }
   ],
   "source": [
    "# Display the shape of the data\n",
    "print(\"Rows : \", df.shape[0], \"\\n\", \"Columns :\", df.shape[1])"
   ]
  },
  {
   "cell_type": "code",
   "execution_count": 6,
   "metadata": {},
   "outputs": [
    {
     "data": {
      "text/plain": [
       "Gender            object\n",
       "Count              int64\n",
       "Countries         object\n",
       "Countries Code    object\n",
       "Date              object\n",
       "dtype: object"
      ]
     },
     "execution_count": 6,
     "metadata": {},
     "output_type": "execute_result"
    }
   ],
   "source": [
    "# Display the column datatypes\n",
    "df.dtypes"
   ]
  },
  {
   "cell_type": "code",
   "execution_count": 7,
   "metadata": {},
   "outputs": [
    {
     "name": "stdout",
     "output_type": "stream",
     "text": [
      "<class 'pandas.core.frame.DataFrame'>\n",
      "RangeIndex: 12500 entries, 0 to 12499\n",
      "Data columns (total 5 columns):\n",
      " #   Column          Non-Null Count  Dtype \n",
      "---  ------          --------------  ----- \n",
      " 0   Gender          12500 non-null  object\n",
      " 1   Count           12500 non-null  int64 \n",
      " 2   Countries       12500 non-null  object\n",
      " 3   Countries Code  12491 non-null  object\n",
      " 4   Date            12500 non-null  object\n",
      "dtypes: int64(1), object(4)\n",
      "memory usage: 488.4+ KB\n"
     ]
    }
   ],
   "source": [
    "# Get more inffo on the dataset\n",
    "df.info()"
   ]
  },
  {
   "cell_type": "code",
   "execution_count": 8,
   "metadata": {},
   "outputs": [
    {
     "data": {
      "text/html": [
       "<div>\n",
       "<style scoped>\n",
       "    .dataframe tbody tr th:only-of-type {\n",
       "        vertical-align: middle;\n",
       "    }\n",
       "\n",
       "    .dataframe tbody tr th {\n",
       "        vertical-align: top;\n",
       "    }\n",
       "\n",
       "    .dataframe thead th {\n",
       "        text-align: right;\n",
       "    }\n",
       "</style>\n",
       "<table border=\"1\" class=\"dataframe\">\n",
       "  <thead>\n",
       "    <tr style=\"text-align: right;\">\n",
       "      <th></th>\n",
       "      <th>Count</th>\n",
       "    </tr>\n",
       "  </thead>\n",
       "  <tbody>\n",
       "    <tr>\n",
       "      <th>count</th>\n",
       "      <td>12500.000000</td>\n",
       "    </tr>\n",
       "    <tr>\n",
       "      <th>mean</th>\n",
       "      <td>490.500000</td>\n",
       "    </tr>\n",
       "    <tr>\n",
       "      <th>std</th>\n",
       "      <td>288.513274</td>\n",
       "    </tr>\n",
       "    <tr>\n",
       "      <th>min</th>\n",
       "      <td>1.000000</td>\n",
       "    </tr>\n",
       "    <tr>\n",
       "      <th>25%</th>\n",
       "      <td>241.000000</td>\n",
       "    </tr>\n",
       "    <tr>\n",
       "      <th>50%</th>\n",
       "      <td>481.000000</td>\n",
       "    </tr>\n",
       "    <tr>\n",
       "      <th>75%</th>\n",
       "      <td>740.000000</td>\n",
       "    </tr>\n",
       "    <tr>\n",
       "      <th>max</th>\n",
       "      <td>1000.000000</td>\n",
       "    </tr>\n",
       "  </tbody>\n",
       "</table>\n",
       "</div>"
      ],
      "text/plain": [
       "              Count\n",
       "count  12500.000000\n",
       "mean     490.500000\n",
       "std      288.513274\n",
       "min        1.000000\n",
       "25%      241.000000\n",
       "50%      481.000000\n",
       "75%      740.000000\n",
       "max     1000.000000"
      ]
     },
     "execution_count": 8,
     "metadata": {},
     "output_type": "execute_result"
    }
   ],
   "source": [
    "# Get Statistical description of the data\n",
    "df.describe()"
   ]
  },
  {
   "cell_type": "markdown",
   "metadata": {},
   "source": [
    "##### 3. Data Preparation"
   ]
  },
  {
   "cell_type": "code",
   "execution_count": 9,
   "metadata": {},
   "outputs": [
    {
     "data": {
      "text/plain": [
       "0"
      ]
     },
     "execution_count": 9,
     "metadata": {},
     "output_type": "execute_result"
    }
   ],
   "source": [
    "# Look for any duplicates\n",
    "df.duplicated().sum()"
   ]
  },
  {
   "cell_type": "code",
   "execution_count": 10,
   "metadata": {},
   "outputs": [
    {
     "data": {
      "text/plain": [
       "Gender            0\n",
       "Count             0\n",
       "Countries         0\n",
       "Countries Code    9\n",
       "Date              0\n",
       "dtype: int64"
      ]
     },
     "execution_count": 10,
     "metadata": {},
     "output_type": "execute_result"
    }
   ],
   "source": [
    "# Look for missing values\n",
    "df.isnull().sum()"
   ]
  },
  {
   "cell_type": "code",
   "execution_count": 11,
   "metadata": {},
   "outputs": [],
   "source": [
    "# Drop Missing Values \n",
    "df.dropna(axis='columns', inplace=True)"
   ]
  },
  {
   "cell_type": "code",
   "execution_count": 12,
   "metadata": {},
   "outputs": [],
   "source": [
    "# Convert date column to datetime\n",
    "df[\"Date\"] = pd.to_datetime(df['Date'])"
   ]
  },
  {
   "cell_type": "code",
   "execution_count": 13,
   "metadata": {},
   "outputs": [
    {
     "data": {
      "text/html": [
       "<div>\n",
       "<style scoped>\n",
       "    .dataframe tbody tr th:only-of-type {\n",
       "        vertical-align: middle;\n",
       "    }\n",
       "\n",
       "    .dataframe tbody tr th {\n",
       "        vertical-align: top;\n",
       "    }\n",
       "\n",
       "    .dataframe thead th {\n",
       "        text-align: right;\n",
       "    }\n",
       "</style>\n",
       "<table border=\"1\" class=\"dataframe\">\n",
       "  <thead>\n",
       "    <tr style=\"text-align: right;\">\n",
       "      <th></th>\n",
       "      <th>Gender</th>\n",
       "      <th>Count</th>\n",
       "      <th>Countries</th>\n",
       "      <th>Date</th>\n",
       "      <th>Year</th>\n",
       "      <th>Month</th>\n",
       "    </tr>\n",
       "  </thead>\n",
       "  <tbody>\n",
       "    <tr>\n",
       "      <th>0</th>\n",
       "      <td>Female</td>\n",
       "      <td>1</td>\n",
       "      <td>Japan</td>\n",
       "      <td>2019-12-25</td>\n",
       "      <td>2019</td>\n",
       "      <td>12</td>\n",
       "    </tr>\n",
       "    <tr>\n",
       "      <th>1</th>\n",
       "      <td>Female</td>\n",
       "      <td>2</td>\n",
       "      <td>Czech Republic</td>\n",
       "      <td>2019-12-22</td>\n",
       "      <td>2019</td>\n",
       "      <td>12</td>\n",
       "    </tr>\n",
       "    <tr>\n",
       "      <th>2</th>\n",
       "      <td>Male</td>\n",
       "      <td>3</td>\n",
       "      <td>Portugal</td>\n",
       "      <td>2019-12-28</td>\n",
       "      <td>2019</td>\n",
       "      <td>12</td>\n",
       "    </tr>\n",
       "    <tr>\n",
       "      <th>3</th>\n",
       "      <td>Female</td>\n",
       "      <td>4</td>\n",
       "      <td>Netherlands</td>\n",
       "      <td>2012-01-19</td>\n",
       "      <td>2012</td>\n",
       "      <td>1</td>\n",
       "    </tr>\n",
       "    <tr>\n",
       "      <th>4</th>\n",
       "      <td>Female</td>\n",
       "      <td>5</td>\n",
       "      <td>Argentina</td>\n",
       "      <td>2019-12-24</td>\n",
       "      <td>2019</td>\n",
       "      <td>12</td>\n",
       "    </tr>\n",
       "  </tbody>\n",
       "</table>\n",
       "</div>"
      ],
      "text/plain": [
       "   Gender  Count       Countries       Date  Year  Month\n",
       "0  Female      1           Japan 2019-12-25  2019     12\n",
       "1  Female      2  Czech Republic 2019-12-22  2019     12\n",
       "2    Male      3        Portugal 2019-12-28  2019     12\n",
       "3  Female      4     Netherlands 2012-01-19  2012      1\n",
       "4  Female      5       Argentina 2019-12-24  2019     12"
      ]
     },
     "execution_count": 13,
     "metadata": {},
     "output_type": "execute_result"
    }
   ],
   "source": [
    "# Create \"Year\" & \"Month\" columns \n",
    "df['Year'] = df['Date'].dt.year\n",
    "df['Month'] = df['Date'].dt.month\n",
    "df.head()"
   ]
  },
  {
   "cell_type": "code",
   "execution_count": 14,
   "metadata": {},
   "outputs": [
    {
     "data": {
      "text/plain": [
       "array(['Japan', 'Czech Republic', 'Portugal', 'Netherlands', 'Argentina',\n",
       "       'France', 'Nicaragua', 'Brazil', 'Afghanistan', 'Greece',\n",
       "       'Indonesia', 'Russia', 'China', 'Ukraine', 'United States', 'Peru',\n",
       "       'Sweden', 'Bosnia and Herzegovina', 'Madagascar', 'Mexico',\n",
       "       'Belarus', 'Cyprus', 'Philippines', 'El Salvador', 'Vietnam',\n",
       "       'Bangladesh', 'Tanzania', 'Norway', 'Uganda', 'Italy', 'Poland',\n",
       "       'Honduras', 'Panama', 'Macedonia', 'Dominican Republic',\n",
       "       'Mauritania', 'Bhutan', 'Samoa', 'Ecuador', 'Colombia', 'Morocco',\n",
       "       'Micronesia', 'Cuba', 'Iran', 'New Caledonia', 'Malaysia',\n",
       "       'Thailand', 'Croatia', 'Haiti', 'Germany', 'Tunisia', 'Cambodia',\n",
       "       'Canada', 'Moldova', 'Comoros', 'Iraq', 'Malta', 'Cameroon',\n",
       "       'Egypt', 'Armenia', 'Albania', 'Uruguay', 'Nigeria', 'Israel',\n",
       "       'Mongolia', 'New Zealand', 'Pakistan', 'Libya', 'Niger',\n",
       "       'Venezuela', 'Central African Republic', 'Kenya', 'South Africa',\n",
       "       'Burundi', 'Syria', 'Costa Rica', 'Slovenia', 'Ethiopia',\n",
       "       'Kazakhstan', 'North Korea', 'Uzbekistan', 'South Korea',\n",
       "       'Kiribati', 'Mozambique', 'Burkina Faso', 'Benin', 'Ivory Coast',\n",
       "       'Georgia', 'Guyana', 'Bulgaria', 'Kyrgyzstan',\n",
       "       'Palestinian Territory', 'Azerbaijan', 'Hungary', 'Serbia',\n",
       "       'Somalia', 'Spain', 'Yemen', 'Nepal', 'Guatemala', 'Sierra Leone',\n",
       "       'American Samoa', 'Saudi Arabia', 'Gambia', 'Myanmar', 'Mauritius',\n",
       "       'Ghana', 'Finland', 'Saint Lucia', 'Bolivia', 'Austria',\n",
       "       'Botswana', 'Democratic Republic of the Congo', 'Senegal',\n",
       "       'Republic of the Congo', 'Bahamas', 'Chile', 'Latvia', 'Zimbabwe',\n",
       "       'Brunei', 'Turkmenistan', 'Grenada', 'Tajikistan', 'Switzerland',\n",
       "       'Jordan', 'Ireland', 'Sudan', 'Guinea', 'East Timor', 'Mali',\n",
       "       'Estonia', 'Denmark', 'Solomon Islands', 'Taiwan', 'Australia',\n",
       "       'Mayotte', 'Cape Verde', 'Montenegro', 'Seychelles',\n",
       "       'United Kingdom', 'Suriname', 'Angola', 'Belgium', 'Chad',\n",
       "       'Iceland', 'Niue', 'Papua New Guinea', 'Lesotho', 'Malawi',\n",
       "       'Lithuania', 'Qatar', 'Curacao', 'Luxembourg', 'Liberia', 'Zambia',\n",
       "       'Paraguay', 'Sri Lanka', 'Jamaica', 'French Guiana', 'Namibia',\n",
       "       'Swaziland', 'Lebanon', 'Belize', 'Hong Kong', 'Marshall Islands',\n",
       "       'Andorra', 'Greenland', 'Tonga', 'Rwanda', 'Guinea-Bissau',\n",
       "       'Kosovo', 'Togo', 'Palau', 'Djibouti', 'United Arab Emirates',\n",
       "       'Trinidad and Tobago', 'Kuwait', 'India', 'Eritrea',\n",
       "       'Liechtenstein', 'Barbados', 'Oman', 'Gabon', 'French Polynesia',\n",
       "       'Saint Kitts and Nevis', 'Aland Islands', 'Laos', 'Turkey',\n",
       "       'Anguilla', 'Turks and Caicos Islands', 'British Virgin Islands',\n",
       "       'Bonaire, Saint Eustatius and Saba ', 'Guadeloupe', 'Dominica',\n",
       "       'Martinique', 'Guam', 'Falkland Islands', 'Bermuda', 'Maldives',\n",
       "       'Reunion', 'Vanuatu', 'Saint Martin', 'Cayman Islands',\n",
       "       'Equatorial Guinea', 'Tuvalu', 'Puerto Rico', 'Monaco'],\n",
       "      dtype=object)"
      ]
     },
     "execution_count": 14,
     "metadata": {},
     "output_type": "execute_result"
    }
   ],
   "source": [
    "df.Countries.unique()"
   ]
  },
  {
   "cell_type": "code",
   "execution_count": 15,
   "metadata": {},
   "outputs": [],
   "source": [
    "df['Continent']=df.Countries.map({'Japan':'Asia', 'Czech Republic': 'Europe', 'Portugal':'Europe',\n",
    "                             'Netherlands':'Europe','Argentina': 'South America', 'France': 'Europe',\n",
    "                             'Nicaragua':'North America', 'Brazil':'South America', 'Afghanistan': 'Asia',\n",
    "                             'Greece':'Europe','Indonesia':'Asia', 'Russia':'Europe', 'China':'Asia',\n",
    "                             'Ukraine':'Europe', 'United States':'North America','Peru':'South America',\n",
    "                             'Sweden':'Europe', 'Bosnia and Herzegovina':'Europe','Madagascar':'Africa',\n",
    "                             'Mexico': 'North America', 'Belarus':'Europe', 'Cyprus':'Europe','Philippines':'Asia',\n",
    "                             'El Salvador': 'North America', 'Vietnam':'Asia','Bangladesh':'Asia',\n",
    "                             'Tanzania':'Africa','Norway':'Europe','Uganda':'Africa','Italy':'Europe',\n",
    "                             'Poland':'Europe','Honduras':'North America', 'Panama':'North America',\n",
    "                             'Macedonia':'Europe','Dominican Republic':'North America','Mauritania':'Africa',\n",
    "                             'Bhutan':'Asia','Samoa':'Oceania','Ecuador':'South America', 'Colombia':'South America',\n",
    "                             'Morocco':'Africa','Micronesia':'Oceania','Cuba':'North America','Iran':'Asia',\n",
    "                             'New Caledonia':'Oceania','Malaysia':'Asia','Thailand':'Asia','Croatia':'Europe',\n",
    "                             'Haiti':'North America', 'Germany':'Europe','Tunisia':'Africa', 'Cambodia':'Asia',\n",
    "                             'Canada':'North America', 'Moldova':'Europe', 'Comoros':'Africa','Iraq':'Asia',\n",
    "                             'Malta':'Europe','Cameroon':'Africa','Egypt':'Africa','Armenia':'Asia','Albania':'Europe',\n",
    "                             'Uruguay':'South America','Nigeria':'Africa', 'Israel':'Asia','Mongolia':'Asia',\n",
    "                             'New Zealand':'Oceania','Pakistan':'Asia', 'Libya':'Africa','Niger':'Africa',\n",
    "                             'Venezuela':'South America','Central African Republic':'Africa',\n",
    "                             'Kenya':'Africa','South Africa':'Africa', 'Burundi':'Africa', 'Syria':'Asia',\n",
    "                             'Costa Rica':'North America','Slovenia':'Europe','Ethiopia':'Africa', 'Kazakhstan':'Asia',\n",
    "                             'North Korea':'Asia','Uzbekistan':'Asia','South Korea':'Asia','Kiribati':'Oceania',\n",
    "                             'Mozambique':'Africa','Burkina Faso':'Africa','Benin':'Africa','Ivory Coast':'Africa',\n",
    "                             'Georgia':'Europe','Guyana':'South America', 'Bulgaria':'Europe','Kyrgyzstan':'Asia',\n",
    "                             'Palestinian Territory':'Asia', 'Azerbaijan':'Europe', 'Hungary':'Europe',\n",
    "                             'Serbia':'Europe','Somalia':'Africa','Spain':'Europe','Yemen':'Asia','Nepal':'Asia',\n",
    "                             'Guatemala':'North America', 'Sierra Leone':'Africa',  'American Samoa':'Oceania',\n",
    "                             'Saudi Arabia':'Asia', 'Gambia':'Africa', 'Myanmar':'Asia', 'Mauritius':'Africa',\n",
    "                             'Ghana':'Africa','Finland':'Europe','Saint Lucia':'North America',\n",
    "                             'Bolivia':'South America','Austria':'Europe', 'Botswana':'Africa',\n",
    "                             'Democratic Republic of the Congo':'Africa','Senegal':'Africa','Bahamas':'North America',\n",
    "                             'Republic of the Congo':'Africa','Chile':'South America','Latvia':'Europe',\n",
    "                             'Zimbabwe':'Africa', 'Brunei':'Asia','Turkmenistan':'Asia', 'Grenada':'North America',\n",
    "                             'Tajikistan':'Asia','Switzerland':'Europe','Jordan':'Asia','Ireland':'Europe',\n",
    "                             'Sudan':'Africa','Guinea':'Africa','East Timor':'Asia','Mali':'Africa','Estonia':'Europe',\n",
    "                             'Denmark':'Europe','Solomon Islands':'Oceania','Taiwan':'Asia','Australia':'Oceania',\n",
    "                             'Mayotte':'Africa','Cape Verde':'Africa','Montenegro':'Europe','Seychelles':'Africa',\n",
    "                             'United Kingdom':'Europe','Suriname':'South America','Angola':'Africa','Belgium':'Europe',\n",
    "                             'Chad':'Africa', 'Iceland':'Europe','Niue':'Oceania','Papua New Guinea':'Oceania',\n",
    "                             'Lesotho':'Africa','Malawi':'Africa','Lithuania':'Europe', 'Qatar':'Asia',\n",
    "                             'Curacao':'South America','Luxembourg':'Europe', 'Liberia':'Africa','Zambia':'Africa',\n",
    "                             'Paraguay':'South America','Sri Lanka':'Asia','Jamaica':'North America','Namibia':'Africa',\n",
    "                             'French Guiana':'South America','Swaziland':'Africa','Lebanon':'Asia',\n",
    "                             'Belize':'North America','Hong Kong':'Asia', 'Marshall Islands':'Oceania','Andorra':'Europe',\n",
    "                             'Greenland':'North America', 'Tonga':'Oceania','Rwanda':'Africa','Guinea-Bissau':'Africa',\n",
    "                             'Kosovo':'Europe', 'Togo':'Africa','Palau':'Oceania','Djibouti':'Africa',\n",
    "                             'United Arab Emirates':'Asia','Trinidad and Tobago':'South America','Kuwait':'Asia',\n",
    "                             'India':'Asia','Eritrea':'Africa','Liechtenstein':'Europe','Barbados':'North America',\n",
    "                             'Oman':'Asia','Gabon':'Africa','French Polynesia':'Oceania', 'Laos': 'Asia',\n",
    "                             'Saint Kitts and Nevis':'North America','Aland Islands':'Europe','Turkey':'Europe',\n",
    "                             'Anguilla':'North America', 'Turks and Caicos Islands':'North America',\n",
    "                             'British Virgin Islands':'North America','Bonaire, Saint Eustatius and Saba ':'South America',\n",
    "                             'Guadeloupe':'North America', 'Dominica':'North America','Martinique':'North America',\n",
    "                             'Guam':'Oceania','Falkland Islands':'South America','Bermuda':'North America',\n",
    "                             'Maldives':'Asia', 'Reunion':'Africa','Vanuatu':'Oceania','Saint Martin':'North America',\n",
    "                             'Cayman Islands':'North America','Equatorial Guinea':'Africa','Tuvalu':'Oceania',\n",
    "                             'Puerto Rico':'North America','Monaco':'Europe'\n",
    "                             \n",
    "                             })"
   ]
  },
  {
   "cell_type": "markdown",
   "metadata": {},
   "source": [
    "##### 4. Analysis & Visualization"
   ]
  },
  {
   "cell_type": "code",
   "execution_count": 16,
   "metadata": {},
   "outputs": [
    {
     "data": {
      "image/png": "[encoded data removed]",
      "text/plain": [
       "<Figure size 720x360 with 1 Axes>"
      ]
     },
     "metadata": {},
     "output_type": "display_data"
    }
   ],
   "source": [
    "plt.figure(figsize=(10,5))\n",
    "colors = [\"#F1948A\", \"#3498DB\"]\n",
    "ax = df['Gender'].value_counts() \\\n",
    "     .plot(kind='pie', title=\"Alcohol Consumption Per Gender\", autopct='%1.2f%%', colors=colors)\n",
    "ax.set_xlabel(\"Gender\")\n",
    "ax.set_ylabel(\"Count\")\n",
    "plt.xticks(rotation=0)\n",
    "plt.grid()\n",
    "plt.show()"
   ]
  },
  {
   "cell_type": "markdown",
   "metadata": {},
   "source": [
    "The visualization above shows that the dataset is fairly balanced in terms of Gender entries (rows). 50.25% of the entries is females and 49.75% is males. "
   ]
  },
  {
   "cell_type": "code",
   "execution_count": 17,
   "metadata": {},
   "outputs": [],
   "source": [
    "table = pd.pivot_table(df, values='Count',\n",
    "                       index=['Gender', 'Continent'],\n",
    "                       columns=['Year'], aggfunc=np.sum).fillna(0)"
   ]
  },
  {
   "cell_type": "code",
   "execution_count": 18,
   "metadata": {},
   "outputs": [
    {
     "data": {
      "text/html": [
       "<div>\n",
       "<style scoped>\n",
       "    .dataframe tbody tr th:only-of-type {\n",
       "        vertical-align: middle;\n",
       "    }\n",
       "\n",
       "    .dataframe tbody tr th {\n",
       "        vertical-align: top;\n",
       "    }\n",
       "\n",
       "    .dataframe thead th {\n",
       "        text-align: right;\n",
       "    }\n",
       "</style>\n",
       "<table border=\"1\" class=\"dataframe\">\n",
       "  <thead>\n",
       "    <tr style=\"text-align: right;\">\n",
       "      <th></th>\n",
       "      <th>Year</th>\n",
       "      <th>2001</th>\n",
       "      <th>2002</th>\n",
       "      <th>2003</th>\n",
       "      <th>2004</th>\n",
       "      <th>2005</th>\n",
       "      <th>2006</th>\n",
       "      <th>2007</th>\n",
       "      <th>2008</th>\n",
       "      <th>2009</th>\n",
       "      <th>2010</th>\n",
       "      <th>2011</th>\n",
       "      <th>2012</th>\n",
       "      <th>2019</th>\n",
       "      <th>2020</th>\n",
       "    </tr>\n",
       "    <tr>\n",
       "      <th>Gender</th>\n",
       "      <th>Continent</th>\n",
       "      <th></th>\n",
       "      <th></th>\n",
       "      <th></th>\n",
       "      <th></th>\n",
       "      <th></th>\n",
       "      <th></th>\n",
       "      <th></th>\n",
       "      <th></th>\n",
       "      <th></th>\n",
       "      <th></th>\n",
       "      <th></th>\n",
       "      <th></th>\n",
       "      <th></th>\n",
       "      <th></th>\n",
       "    </tr>\n",
       "  </thead>\n",
       "  <tbody>\n",
       "    <tr>\n",
       "      <th rowspan=\"6\" valign=\"top\">Female</th>\n",
       "      <th>Africa</th>\n",
       "      <td>5741.0</td>\n",
       "      <td>9052.0</td>\n",
       "      <td>6364.0</td>\n",
       "      <td>4345.0</td>\n",
       "      <td>6630.0</td>\n",
       "      <td>9562.0</td>\n",
       "      <td>3572.0</td>\n",
       "      <td>6236.0</td>\n",
       "      <td>7847.0</td>\n",
       "      <td>5782.0</td>\n",
       "      <td>5933.0</td>\n",
       "      <td>1985.0</td>\n",
       "      <td>11768.0</td>\n",
       "      <td>101308.0</td>\n",
       "    </tr>\n",
       "    <tr>\n",
       "      <th>Asia</th>\n",
       "      <td>51036.0</td>\n",
       "      <td>62760.0</td>\n",
       "      <td>46104.0</td>\n",
       "      <td>59101.0</td>\n",
       "      <td>49028.0</td>\n",
       "      <td>52502.0</td>\n",
       "      <td>41038.0</td>\n",
       "      <td>45277.0</td>\n",
       "      <td>56700.0</td>\n",
       "      <td>57687.0</td>\n",
       "      <td>54358.0</td>\n",
       "      <td>12679.0</td>\n",
       "      <td>97258.0</td>\n",
       "      <td>794914.0</td>\n",
       "    </tr>\n",
       "    <tr>\n",
       "      <th>Europe</th>\n",
       "      <td>31067.0</td>\n",
       "      <td>37785.0</td>\n",
       "      <td>31787.0</td>\n",
       "      <td>33654.0</td>\n",
       "      <td>36559.0</td>\n",
       "      <td>33673.0</td>\n",
       "      <td>40575.0</td>\n",
       "      <td>30685.0</td>\n",
       "      <td>37322.0</td>\n",
       "      <td>36722.0</td>\n",
       "      <td>33642.0</td>\n",
       "      <td>5456.0</td>\n",
       "      <td>50266.0</td>\n",
       "      <td>481905.0</td>\n",
       "    </tr>\n",
       "    <tr>\n",
       "      <th>North America</th>\n",
       "      <td>3952.0</td>\n",
       "      <td>7445.0</td>\n",
       "      <td>8626.0</td>\n",
       "      <td>8784.0</td>\n",
       "      <td>11191.0</td>\n",
       "      <td>9658.0</td>\n",
       "      <td>4311.0</td>\n",
       "      <td>8286.0</td>\n",
       "      <td>7787.0</td>\n",
       "      <td>6788.0</td>\n",
       "      <td>7843.0</td>\n",
       "      <td>1961.0</td>\n",
       "      <td>10894.0</td>\n",
       "      <td>116765.0</td>\n",
       "    </tr>\n",
       "    <tr>\n",
       "      <th>Oceania</th>\n",
       "      <td>1172.0</td>\n",
       "      <td>768.0</td>\n",
       "      <td>490.0</td>\n",
       "      <td>1036.0</td>\n",
       "      <td>0.0</td>\n",
       "      <td>706.0</td>\n",
       "      <td>1976.0</td>\n",
       "      <td>2027.0</td>\n",
       "      <td>0.0</td>\n",
       "      <td>0.0</td>\n",
       "      <td>0.0</td>\n",
       "      <td>95.0</td>\n",
       "      <td>2474.0</td>\n",
       "      <td>14228.0</td>\n",
       "    </tr>\n",
       "    <tr>\n",
       "      <th>South America</th>\n",
       "      <td>12824.0</td>\n",
       "      <td>6745.0</td>\n",
       "      <td>10940.0</td>\n",
       "      <td>10670.0</td>\n",
       "      <td>7102.0</td>\n",
       "      <td>7805.0</td>\n",
       "      <td>14051.0</td>\n",
       "      <td>10564.0</td>\n",
       "      <td>9831.0</td>\n",
       "      <td>8846.0</td>\n",
       "      <td>11211.0</td>\n",
       "      <td>1191.0</td>\n",
       "      <td>22616.0</td>\n",
       "      <td>152679.0</td>\n",
       "    </tr>\n",
       "    <tr>\n",
       "      <th rowspan=\"6\" valign=\"top\">Male</th>\n",
       "      <th>Africa</th>\n",
       "      <td>8347.0</td>\n",
       "      <td>8779.0</td>\n",
       "      <td>8969.0</td>\n",
       "      <td>12194.0</td>\n",
       "      <td>7404.0</td>\n",
       "      <td>6159.0</td>\n",
       "      <td>4509.0</td>\n",
       "      <td>6623.0</td>\n",
       "      <td>9183.0</td>\n",
       "      <td>9450.0</td>\n",
       "      <td>6720.0</td>\n",
       "      <td>1239.0</td>\n",
       "      <td>16766.0</td>\n",
       "      <td>94975.0</td>\n",
       "    </tr>\n",
       "    <tr>\n",
       "      <th>Asia</th>\n",
       "      <td>38229.0</td>\n",
       "      <td>56564.0</td>\n",
       "      <td>51335.0</td>\n",
       "      <td>56500.0</td>\n",
       "      <td>48586.0</td>\n",
       "      <td>50751.0</td>\n",
       "      <td>57670.0</td>\n",
       "      <td>50397.0</td>\n",
       "      <td>39321.0</td>\n",
       "      <td>49061.0</td>\n",
       "      <td>49283.0</td>\n",
       "      <td>10992.0</td>\n",
       "      <td>85873.0</td>\n",
       "      <td>741353.0</td>\n",
       "    </tr>\n",
       "    <tr>\n",
       "      <th>Europe</th>\n",
       "      <td>19654.0</td>\n",
       "      <td>32315.0</td>\n",
       "      <td>26593.0</td>\n",
       "      <td>27552.0</td>\n",
       "      <td>34206.0</td>\n",
       "      <td>34771.0</td>\n",
       "      <td>30939.0</td>\n",
       "      <td>28965.0</td>\n",
       "      <td>39611.0</td>\n",
       "      <td>31784.0</td>\n",
       "      <td>37696.0</td>\n",
       "      <td>8512.0</td>\n",
       "      <td>59884.0</td>\n",
       "      <td>486142.0</td>\n",
       "    </tr>\n",
       "    <tr>\n",
       "      <th>North America</th>\n",
       "      <td>5485.0</td>\n",
       "      <td>10917.0</td>\n",
       "      <td>6601.0</td>\n",
       "      <td>10287.0</td>\n",
       "      <td>5505.0</td>\n",
       "      <td>7287.0</td>\n",
       "      <td>9283.0</td>\n",
       "      <td>5288.0</td>\n",
       "      <td>6654.0</td>\n",
       "      <td>4400.0</td>\n",
       "      <td>6036.0</td>\n",
       "      <td>2666.0</td>\n",
       "      <td>10181.0</td>\n",
       "      <td>120329.0</td>\n",
       "    </tr>\n",
       "    <tr>\n",
       "      <th>Oceania</th>\n",
       "      <td>1511.0</td>\n",
       "      <td>536.0</td>\n",
       "      <td>0.0</td>\n",
       "      <td>0.0</td>\n",
       "      <td>1146.0</td>\n",
       "      <td>3476.0</td>\n",
       "      <td>769.0</td>\n",
       "      <td>758.0</td>\n",
       "      <td>328.0</td>\n",
       "      <td>500.0</td>\n",
       "      <td>1787.0</td>\n",
       "      <td>112.0</td>\n",
       "      <td>1558.0</td>\n",
       "      <td>11557.0</td>\n",
       "    </tr>\n",
       "    <tr>\n",
       "      <th>South America</th>\n",
       "      <td>7514.0</td>\n",
       "      <td>10831.0</td>\n",
       "      <td>10799.0</td>\n",
       "      <td>10612.0</td>\n",
       "      <td>14307.0</td>\n",
       "      <td>7090.0</td>\n",
       "      <td>14130.0</td>\n",
       "      <td>10322.0</td>\n",
       "      <td>9725.0</td>\n",
       "      <td>8583.0</td>\n",
       "      <td>9155.0</td>\n",
       "      <td>2242.0</td>\n",
       "      <td>16297.0</td>\n",
       "      <td>164827.0</td>\n",
       "    </tr>\n",
       "  </tbody>\n",
       "</table>\n",
       "</div>"
      ],
      "text/plain": [
       "Year                     2001     2002     2003     2004     2005     2006  \\\n",
       "Gender Continent                                                             \n",
       "Female Africa          5741.0   9052.0   6364.0   4345.0   6630.0   9562.0   \n",
       "       Asia           51036.0  62760.0  46104.0  59101.0  49028.0  52502.0   \n",
       "       Europe         31067.0  37785.0  31787.0  33654.0  36559.0  33673.0   \n",
       "       North America   3952.0   7445.0   8626.0   8784.0  11191.0   9658.0   \n",
       "       Oceania         1172.0    768.0    490.0   1036.0      0.0    706.0   \n",
       "       South America  12824.0   6745.0  10940.0  10670.0   7102.0   7805.0   \n",
       "Male   Africa          8347.0   8779.0   8969.0  12194.0   7404.0   6159.0   \n",
       "       Asia           38229.0  56564.0  51335.0  56500.0  48586.0  50751.0   \n",
       "       Europe         19654.0  32315.0  26593.0  27552.0  34206.0  34771.0   \n",
       "       North America   5485.0  10917.0   6601.0  10287.0   5505.0   7287.0   \n",
       "       Oceania         1511.0    536.0      0.0      0.0   1146.0   3476.0   \n",
       "       South America   7514.0  10831.0  10799.0  10612.0  14307.0   7090.0   \n",
       "\n",
       "Year                     2007     2008     2009     2010     2011     2012  \\\n",
       "Gender Continent                                                             \n",
       "Female Africa          3572.0   6236.0   7847.0   5782.0   5933.0   1985.0   \n",
       "       Asia           41038.0  45277.0  56700.0  57687.0  54358.0  12679.0   \n",
       "       Europe         40575.0  30685.0  37322.0  36722.0  33642.0   5456.0   \n",
       "       North America   4311.0   8286.0   7787.0   6788.0   7843.0   1961.0   \n",
       "       Oceania         1976.0   2027.0      0.0      0.0      0.0     95.0   \n",
       "       South America  14051.0  10564.0   9831.0   8846.0  11211.0   1191.0   \n",
       "Male   Africa          4509.0   6623.0   9183.0   9450.0   6720.0   1239.0   \n",
       "       Asia           57670.0  50397.0  39321.0  49061.0  49283.0  10992.0   \n",
       "       Europe         30939.0  28965.0  39611.0  31784.0  37696.0   8512.0   \n",
       "       North America   9283.0   5288.0   6654.0   4400.0   6036.0   2666.0   \n",
       "       Oceania          769.0    758.0    328.0    500.0   1787.0    112.0   \n",
       "       South America  14130.0  10322.0   9725.0   8583.0   9155.0   2242.0   \n",
       "\n",
       "Year                     2019      2020  \n",
       "Gender Continent                         \n",
       "Female Africa         11768.0  101308.0  \n",
       "       Asia           97258.0  794914.0  \n",
       "       Europe         50266.0  481905.0  \n",
       "       North America  10894.0  116765.0  \n",
       "       Oceania         2474.0   14228.0  \n",
       "       South America  22616.0  152679.0  \n",
       "Male   Africa         16766.0   94975.0  \n",
       "       Asia           85873.0  741353.0  \n",
       "       Europe         59884.0  486142.0  \n",
       "       North America  10181.0  120329.0  \n",
       "       Oceania         1558.0   11557.0  \n",
       "       South America  16297.0  164827.0  "
      ]
     },
     "execution_count": 18,
     "metadata": {},
     "output_type": "execute_result"
    }
   ],
   "source": [
    "table"
   ]
  },
  {
   "cell_type": "markdown",
   "metadata": {},
   "source": [
    "The pivot table allows us to look at the raw numbers, Count column in our case, with the continent column and gender both used as indexes and years as the columns. We are able to see the actual summed numbers of alcohol consumption by gender in each continent as the years roll by. Year 2020 shows an expontial increase in alcohol consumption.   "
   ]
  },
  {
   "cell_type": "code",
   "execution_count": 19,
   "metadata": {},
   "outputs": [
    {
     "data": {
      "text/html": [
       "<div>\n",
       "<style scoped>\n",
       "    .dataframe tbody tr th:only-of-type {\n",
       "        vertical-align: middle;\n",
       "    }\n",
       "\n",
       "    .dataframe tbody tr th {\n",
       "        vertical-align: top;\n",
       "    }\n",
       "\n",
       "    .dataframe thead th {\n",
       "        text-align: right;\n",
       "    }\n",
       "</style>\n",
       "<table border=\"1\" class=\"dataframe\">\n",
       "  <thead>\n",
       "    <tr style=\"text-align: right;\">\n",
       "      <th></th>\n",
       "      <th>Continent</th>\n",
       "    </tr>\n",
       "  </thead>\n",
       "  <tbody>\n",
       "    <tr>\n",
       "      <th>Asia</th>\n",
       "      <td>5799</td>\n",
       "    </tr>\n",
       "    <tr>\n",
       "      <th>Europe</th>\n",
       "      <td>3741</td>\n",
       "    </tr>\n",
       "    <tr>\n",
       "      <th>South America</th>\n",
       "      <td>1189</td>\n",
       "    </tr>\n",
       "    <tr>\n",
       "      <th>North America</th>\n",
       "      <td>865</td>\n",
       "    </tr>\n",
       "    <tr>\n",
       "      <th>Africa</th>\n",
       "      <td>810</td>\n",
       "    </tr>\n",
       "    <tr>\n",
       "      <th>Oceania</th>\n",
       "      <td>96</td>\n",
       "    </tr>\n",
       "  </tbody>\n",
       "</table>\n",
       "</div>"
      ],
      "text/plain": [
       "               Continent\n",
       "Asia                5799\n",
       "Europe              3741\n",
       "South America       1189\n",
       "North America        865\n",
       "Africa               810\n",
       "Oceania               96"
      ]
     },
     "execution_count": 19,
     "metadata": {},
     "output_type": "execute_result"
    }
   ],
   "source": [
    "# Continent With More Entries In the Dataset\n",
    "df['Continent'].value_counts().to_frame()"
   ]
  },
  {
   "cell_type": "code",
   "execution_count": 20,
   "metadata": {},
   "outputs": [
    {
     "data": {
      "image/png": "[encoded data removed]",
      "text/plain": [
       "<Figure size 720x360 with 1 Axes>"
      ]
     },
     "metadata": {},
     "output_type": "display_data"
    }
   ],
   "source": [
    "# Visualize Alcohol Consumption Per Continent\n",
    "plt.figure(figsize=(10,5))\n",
    "ax = df.groupby('Continent')['Year'].sum() \\\n",
    "    .plot(kind='bar', title='Alcohol Consumption Per Continent', color=\"coral\")\n",
    "plt.ticklabel_format(style='plain',axis='y')\n",
    "ax.set_xlabel(\"Continent\")\n",
    "ax.set_ylabel(\"Count\")\n",
    "plt.show()"
   ]
  },
  {
   "cell_type": "code",
   "execution_count": 21,
   "metadata": {},
   "outputs": [
    {
     "data": {
      "image/png": "[encoded data removed]",
      "text/plain": [
       "<Figure size 720x360 with 1 Axes>"
      ]
     },
     "metadata": {},
     "output_type": "display_data"
    }
   ],
   "source": [
    "# Visualize alcohol Consumption Over The Years\n",
    "plt.figure(figsize=(10,5))\n",
    "ax = df.groupby('Year')['Count'].sum() \\\n",
    "    .plot(kind='bar', title='Alcohol Consumption Per Year',color='red')\n",
    "plt.ticklabel_format(style='plain',axis='y')\n",
    "ax.set_xlabel(\"Year\")\n",
    "ax.set_ylabel(\"Count\")\n",
    "plt.show()"
   ]
  },
  {
   "cell_type": "code",
   "execution_count": 22,
   "metadata": {},
   "outputs": [
    {
     "data": {
      "image/png": "[encoded data removed]",
      "text/plain": [
       "<Figure size 720x360 with 1 Axes>"
      ]
     },
     "metadata": {},
     "output_type": "display_data"
    }
   ],
   "source": [
    "# Visualize total monthly alcohol consumption\n",
    "plt.figure(figsize=(10,5))\n",
    "ax = df.groupby('Month')['Count'].sum() \\\n",
    "    .plot(kind='bar', title='Alcohol Consumption Per Month',color='orange')\n",
    "plt.ticklabel_format(style='plain',axis='y')\n",
    "ax.set_xlabel(\"Month\")\n",
    "ax.set_ylabel(\"Count\")\n",
    "plt.show()"
   ]
  },
  {
   "cell_type": "code",
   "execution_count": 23,
   "metadata": {},
   "outputs": [
    {
     "data": {
      "text/html": [
       "<div>\n",
       "<style scoped>\n",
       "    .dataframe tbody tr th:only-of-type {\n",
       "        vertical-align: middle;\n",
       "    }\n",
       "\n",
       "    .dataframe tbody tr th {\n",
       "        vertical-align: top;\n",
       "    }\n",
       "\n",
       "    .dataframe thead th {\n",
       "        text-align: right;\n",
       "    }\n",
       "</style>\n",
       "<table border=\"1\" class=\"dataframe\">\n",
       "  <thead>\n",
       "    <tr style=\"text-align: right;\">\n",
       "      <th></th>\n",
       "      <th>Gender</th>\n",
       "      <th>Count</th>\n",
       "      <th>Countries</th>\n",
       "      <th>Date</th>\n",
       "      <th>Year</th>\n",
       "      <th>Month</th>\n",
       "      <th>Continent</th>\n",
       "    </tr>\n",
       "  </thead>\n",
       "  <tbody>\n",
       "    <tr>\n",
       "      <th>260</th>\n",
       "      <td>Male</td>\n",
       "      <td>261</td>\n",
       "      <td>South Africa</td>\n",
       "      <td>2019-12-23</td>\n",
       "      <td>2019</td>\n",
       "      <td>12</td>\n",
       "      <td>Africa</td>\n",
       "    </tr>\n",
       "    <tr>\n",
       "      <th>389</th>\n",
       "      <td>Male</td>\n",
       "      <td>390</td>\n",
       "      <td>South Africa</td>\n",
       "      <td>2019-12-13</td>\n",
       "      <td>2019</td>\n",
       "      <td>12</td>\n",
       "      <td>Africa</td>\n",
       "    </tr>\n",
       "    <tr>\n",
       "      <th>402</th>\n",
       "      <td>Male</td>\n",
       "      <td>403</td>\n",
       "      <td>South Africa</td>\n",
       "      <td>2012-09-19</td>\n",
       "      <td>2012</td>\n",
       "      <td>9</td>\n",
       "      <td>Africa</td>\n",
       "    </tr>\n",
       "    <tr>\n",
       "      <th>600</th>\n",
       "      <td>Male</td>\n",
       "      <td>101</td>\n",
       "      <td>South Africa</td>\n",
       "      <td>2020-11-19</td>\n",
       "      <td>2020</td>\n",
       "      <td>11</td>\n",
       "      <td>Africa</td>\n",
       "    </tr>\n",
       "    <tr>\n",
       "      <th>1038</th>\n",
       "      <td>Male</td>\n",
       "      <td>539</td>\n",
       "      <td>South Africa</td>\n",
       "      <td>2020-11-14</td>\n",
       "      <td>2020</td>\n",
       "      <td>11</td>\n",
       "      <td>Africa</td>\n",
       "    </tr>\n",
       "  </tbody>\n",
       "</table>\n",
       "</div>"
      ],
      "text/plain": [
       "     Gender  Count     Countries       Date  Year  Month Continent\n",
       "260    Male    261  South Africa 2019-12-23  2019     12    Africa\n",
       "389    Male    390  South Africa 2019-12-13  2019     12    Africa\n",
       "402    Male    403  South Africa 2012-09-19  2012      9    Africa\n",
       "600    Male    101  South Africa 2020-11-19  2020     11    Africa\n",
       "1038   Male    539  South Africa 2020-11-14  2020     11    Africa"
      ]
     },
     "execution_count": 23,
     "metadata": {},
     "output_type": "execute_result"
    }
   ],
   "source": [
    "# Create a South African only df\n",
    "df_SA = df[df['Countries']==\"South Africa\"]\n",
    "df_SA.head()"
   ]
  },
  {
   "cell_type": "code",
   "execution_count": 24,
   "metadata": {
    "scrolled": true
   },
   "outputs": [
    {
     "data": {
      "image/png": "[encoded data removed]",
      "text/plain": [
       "<Figure size 720x360 with 1 Axes>"
      ]
     },
     "metadata": {},
     "output_type": "display_data"
    }
   ],
   "source": [
    "# Plot Alcohol Consumption Per Month In South Africa\n",
    "plt.figure(figsize=(10,5))\n",
    "ax = df_SA.groupby('Month')['Count'].sum() \\\n",
    "    .plot(kind='bar', title='Alcohol Consumption Per Month In South Africa',color='green')\n",
    "plt.ticklabel_format(style='plain',axis='y')\n",
    "ax.set_xlabel(\"Month\")\n",
    "ax.set_ylabel(\"Count\")\n",
    "plt.show()"
   ]
  },
  {
   "cell_type": "code",
   "execution_count": 25,
   "metadata": {},
   "outputs": [
    {
     "data": {
      "image/png": "[encoded data removed]",
      "text/plain": [
       "<Figure size 720x360 with 1 Axes>"
      ]
     },
     "metadata": {},
     "output_type": "display_data"
    }
   ],
   "source": [
    "# Plot Alcohol Consumption Per Year In South Africa\n",
    "plt.figure(figsize=(10,5))\n",
    "ax = df_SA.groupby('Year')['Count'].sum() \\\n",
    "     .plot(kind='bar', title='Alcohol Consumption Per Year In South Africa',color='red')\n",
    "plt.ticklabel_format(style='plain',axis='y')\n",
    "ax.set_xlabel(\"Year\")\n",
    "ax.set_ylabel(\"Count\")\n",
    "plt.show()"
   ]
  },
  {
   "cell_type": "code",
   "execution_count": 26,
   "metadata": {},
   "outputs": [
    {
     "data": {
      "image/png": "[encoded data removed]",
      "text/plain": [
       "<Figure size 720x360 with 1 Axes>"
      ]
     },
     "metadata": {},
     "output_type": "display_data"
    }
   ],
   "source": [
    "# Plot Gender based countplot\n",
    "plt.figure(figsize=(10,5))\n",
    "sns.countplot(data=df, x=\"Continent\", hue=\"Gender\")\n",
    "plt.show()"
   ]
  },
  {
   "cell_type": "code",
   "execution_count": 27,
   "metadata": {},
   "outputs": [
    {
     "data": {
      "text/plain": [
       "Index(['Gender', 'Count', 'Countries', 'Date', 'Year', 'Month', 'Continent'], dtype='object')"
      ]
     },
     "execution_count": 27,
     "metadata": {},
     "output_type": "execute_result"
    }
   ],
   "source": [
    "df.columns"
   ]
  },
  {
   "cell_type": "code",
   "execution_count": 28,
   "metadata": {},
   "outputs": [
    {
     "data": {
      "text/html": [
       "<div>\n",
       "<style scoped>\n",
       "    .dataframe tbody tr th:only-of-type {\n",
       "        vertical-align: middle;\n",
       "    }\n",
       "\n",
       "    .dataframe tbody tr th {\n",
       "        vertical-align: top;\n",
       "    }\n",
       "\n",
       "    .dataframe thead th {\n",
       "        text-align: right;\n",
       "    }\n",
       "</style>\n",
       "<table border=\"1\" class=\"dataframe\">\n",
       "  <thead>\n",
       "    <tr style=\"text-align: right;\">\n",
       "      <th></th>\n",
       "      <th>count</th>\n",
       "    </tr>\n",
       "    <tr>\n",
       "      <th>Countries</th>\n",
       "      <th></th>\n",
       "    </tr>\n",
       "  </thead>\n",
       "  <tbody>\n",
       "    <tr>\n",
       "      <th>Cameroon</th>\n",
       "      <td>36</td>\n",
       "    </tr>\n",
       "    <tr>\n",
       "      <th>Democratic Republic of the Congo</th>\n",
       "      <td>26</td>\n",
       "    </tr>\n",
       "    <tr>\n",
       "      <th>Egypt</th>\n",
       "      <td>41</td>\n",
       "    </tr>\n",
       "    <tr>\n",
       "      <th>Ethiopia</th>\n",
       "      <td>28</td>\n",
       "    </tr>\n",
       "    <tr>\n",
       "      <th>Kenya</th>\n",
       "      <td>24</td>\n",
       "    </tr>\n",
       "    <tr>\n",
       "      <th>Madagascar</th>\n",
       "      <td>38</td>\n",
       "    </tr>\n",
       "    <tr>\n",
       "      <th>Morocco</th>\n",
       "      <td>37</td>\n",
       "    </tr>\n",
       "    <tr>\n",
       "      <th>Nigeria</th>\n",
       "      <td>102</td>\n",
       "    </tr>\n",
       "    <tr>\n",
       "      <th>South Africa</th>\n",
       "      <td>52</td>\n",
       "    </tr>\n",
       "    <tr>\n",
       "      <th>Tanzania</th>\n",
       "      <td>37</td>\n",
       "    </tr>\n",
       "    <tr>\n",
       "      <th>Tunisia</th>\n",
       "      <td>39</td>\n",
       "    </tr>\n",
       "    <tr>\n",
       "      <th>Uganda</th>\n",
       "      <td>20</td>\n",
       "    </tr>\n",
       "  </tbody>\n",
       "</table>\n",
       "</div>"
      ],
      "text/plain": [
       "                                  count\n",
       "Countries                              \n",
       "Cameroon                             36\n",
       "Democratic Republic of the Congo     26\n",
       "Egypt                                41\n",
       "Ethiopia                             28\n",
       "Kenya                                24\n",
       "Madagascar                           38\n",
       "Morocco                              37\n",
       "Nigeria                             102\n",
       "South Africa                         52\n",
       "Tanzania                             37\n",
       "Tunisia                              39\n",
       "Uganda                               20"
      ]
     },
     "execution_count": 28,
     "metadata": {},
     "output_type": "execute_result"
    }
   ],
   "source": [
    "# Query & Group African Countries with equal or greater than 20 Entries(Rows) in the dataset\n",
    "\n",
    "df.query('Continent == \"Africa\"') \\\n",
    "   .groupby(\"Countries\")['Count'] \\\n",
    "   .agg(['count']) \\\n",
    "   .query(\"count >= 20\")"
   ]
  },
  {
   "cell_type": "markdown",
   "metadata": {},
   "source": [
    "##### 5. Conclusions"
   ]
  },
  {
   "cell_type": "markdown",
   "metadata": {},
   "source": [
    " 1. Year 2020 shows a huge spike in alcohol consumption globally, this could be due to uncertainties and depression caused by the pandemic.  \n",
    " 2. South Africans barely consume alcohol in June and July, the reason for that could because those are winter months in SA. \n",
    " 3. Asia accounts for a lot drinkers in the data and the countplot shows us that there's more Asian female drinkers than males.  "
   ]
  },
  {
   "cell_type": "code",
   "execution_count": null,
   "metadata": {},
   "outputs": [],
   "source": []
  }
 ],
 "metadata": {
  "kernelspec": {
   "display_name": "Python 3",
   "language": "python",
   "name": "python3"
  },
  "language_info": {
   "codemirror_mode": {
    "name": "ipython",
    "version": 3
   },
   "file_extension": ".py",
   "mimetype": "text/x-python",
   "name": "python",
   "nbconvert_exporter": "python",
   "pygments_lexer": "ipython3",
   "version": "3.8.5"
  }
 },
 "nbformat": 4,
 "nbformat_minor": 4
}
